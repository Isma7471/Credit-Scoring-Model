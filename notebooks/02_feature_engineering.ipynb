{
 "cells": [
  {
   "cell_type": "code",
   "execution_count": 2,
   "metadata": {},
   "outputs": [],
   "source": [
    "import pandas as pd\n",
    "import numpy as np\n",
    "from sklearn.preprocessing import LabelEncoder, MinMaxScaler, StandardScaler\n",
    "from datetime import datetime\n",
    "import os\n",
    "import sys\n"
   ]
  },
  {
   "cell_type": "code",
   "execution_count": 3,
   "metadata": {},
   "outputs": [],
   "source": [
    "base_dir = os.path.abspath('../')\n",
    "file_path = os.path.join(base_dir, 'data', 'processed', 'cleaned_data.csv')\n",
    "df = pd.read_csv(file_path)"
   ]
  },
  {
   "cell_type": "code",
   "execution_count": 4,
   "metadata": {},
   "outputs": [
    {
     "data": {
      "text/html": [
       "<div>\n",
       "<style scoped>\n",
       "    .dataframe tbody tr th:only-of-type {\n",
       "        vertical-align: middle;\n",
       "    }\n",
       "\n",
       "    .dataframe tbody tr th {\n",
       "        vertical-align: top;\n",
       "    }\n",
       "\n",
       "    .dataframe thead th {\n",
       "        text-align: right;\n",
       "    }\n",
       "</style>\n",
       "<table border=\"1\" class=\"dataframe\">\n",
       "  <thead>\n",
       "    <tr style=\"text-align: right;\">\n",
       "      <th></th>\n",
       "      <th>TransactionId</th>\n",
       "      <th>BatchId</th>\n",
       "      <th>AccountId</th>\n",
       "      <th>SubscriptionId</th>\n",
       "      <th>CustomerId</th>\n",
       "      <th>CurrencyCode</th>\n",
       "      <th>CountryCode</th>\n",
       "      <th>ProviderId</th>\n",
       "      <th>ProductId</th>\n",
       "      <th>ProductCategory</th>\n",
       "      <th>ChannelId</th>\n",
       "      <th>Amount</th>\n",
       "      <th>Value</th>\n",
       "      <th>TransactionStartTime</th>\n",
       "      <th>PricingStrategy</th>\n",
       "      <th>FraudResult</th>\n",
       "    </tr>\n",
       "  </thead>\n",
       "  <tbody>\n",
       "    <tr>\n",
       "      <th>0</th>\n",
       "      <td>TransactionId_76871</td>\n",
       "      <td>BatchId_36123</td>\n",
       "      <td>AccountId_3957</td>\n",
       "      <td>SubscriptionId_887</td>\n",
       "      <td>CustomerId_4406</td>\n",
       "      <td>UGX</td>\n",
       "      <td>256</td>\n",
       "      <td>ProviderId_6</td>\n",
       "      <td>ProductId_10</td>\n",
       "      <td>airtime</td>\n",
       "      <td>ChannelId_3</td>\n",
       "      <td>1000.0</td>\n",
       "      <td>1000</td>\n",
       "      <td>2018-11-15 02:18:49+00:00</td>\n",
       "      <td>2</td>\n",
       "      <td>0</td>\n",
       "    </tr>\n",
       "    <tr>\n",
       "      <th>1</th>\n",
       "      <td>TransactionId_73770</td>\n",
       "      <td>BatchId_15642</td>\n",
       "      <td>AccountId_4841</td>\n",
       "      <td>SubscriptionId_3829</td>\n",
       "      <td>CustomerId_4406</td>\n",
       "      <td>UGX</td>\n",
       "      <td>256</td>\n",
       "      <td>ProviderId_4</td>\n",
       "      <td>ProductId_6</td>\n",
       "      <td>financial_services</td>\n",
       "      <td>ChannelId_2</td>\n",
       "      <td>-20.0</td>\n",
       "      <td>20</td>\n",
       "      <td>2018-11-15 02:19:08+00:00</td>\n",
       "      <td>2</td>\n",
       "      <td>0</td>\n",
       "    </tr>\n",
       "    <tr>\n",
       "      <th>2</th>\n",
       "      <td>TransactionId_26203</td>\n",
       "      <td>BatchId_53941</td>\n",
       "      <td>AccountId_4229</td>\n",
       "      <td>SubscriptionId_222</td>\n",
       "      <td>CustomerId_4683</td>\n",
       "      <td>UGX</td>\n",
       "      <td>256</td>\n",
       "      <td>ProviderId_6</td>\n",
       "      <td>ProductId_1</td>\n",
       "      <td>airtime</td>\n",
       "      <td>ChannelId_3</td>\n",
       "      <td>500.0</td>\n",
       "      <td>500</td>\n",
       "      <td>2018-11-15 02:44:21+00:00</td>\n",
       "      <td>2</td>\n",
       "      <td>0</td>\n",
       "    </tr>\n",
       "    <tr>\n",
       "      <th>3</th>\n",
       "      <td>TransactionId_380</td>\n",
       "      <td>BatchId_102363</td>\n",
       "      <td>AccountId_648</td>\n",
       "      <td>SubscriptionId_2185</td>\n",
       "      <td>CustomerId_988</td>\n",
       "      <td>UGX</td>\n",
       "      <td>256</td>\n",
       "      <td>ProviderId_1</td>\n",
       "      <td>ProductId_21</td>\n",
       "      <td>utility_bill</td>\n",
       "      <td>ChannelId_3</td>\n",
       "      <td>20000.0</td>\n",
       "      <td>21800</td>\n",
       "      <td>2018-11-15 03:32:55+00:00</td>\n",
       "      <td>2</td>\n",
       "      <td>0</td>\n",
       "    </tr>\n",
       "    <tr>\n",
       "      <th>4</th>\n",
       "      <td>TransactionId_28195</td>\n",
       "      <td>BatchId_38780</td>\n",
       "      <td>AccountId_4841</td>\n",
       "      <td>SubscriptionId_3829</td>\n",
       "      <td>CustomerId_988</td>\n",
       "      <td>UGX</td>\n",
       "      <td>256</td>\n",
       "      <td>ProviderId_4</td>\n",
       "      <td>ProductId_6</td>\n",
       "      <td>financial_services</td>\n",
       "      <td>ChannelId_2</td>\n",
       "      <td>-644.0</td>\n",
       "      <td>644</td>\n",
       "      <td>2018-11-15 03:34:21+00:00</td>\n",
       "      <td>2</td>\n",
       "      <td>0</td>\n",
       "    </tr>\n",
       "  </tbody>\n",
       "</table>\n",
       "</div>"
      ],
      "text/plain": [
       "         TransactionId         BatchId       AccountId       SubscriptionId  \\\n",
       "0  TransactionId_76871   BatchId_36123  AccountId_3957   SubscriptionId_887   \n",
       "1  TransactionId_73770   BatchId_15642  AccountId_4841  SubscriptionId_3829   \n",
       "2  TransactionId_26203   BatchId_53941  AccountId_4229   SubscriptionId_222   \n",
       "3    TransactionId_380  BatchId_102363   AccountId_648  SubscriptionId_2185   \n",
       "4  TransactionId_28195   BatchId_38780  AccountId_4841  SubscriptionId_3829   \n",
       "\n",
       "        CustomerId CurrencyCode  CountryCode    ProviderId     ProductId  \\\n",
       "0  CustomerId_4406          UGX          256  ProviderId_6  ProductId_10   \n",
       "1  CustomerId_4406          UGX          256  ProviderId_4   ProductId_6   \n",
       "2  CustomerId_4683          UGX          256  ProviderId_6   ProductId_1   \n",
       "3   CustomerId_988          UGX          256  ProviderId_1  ProductId_21   \n",
       "4   CustomerId_988          UGX          256  ProviderId_4   ProductId_6   \n",
       "\n",
       "      ProductCategory    ChannelId   Amount  Value       TransactionStartTime  \\\n",
       "0             airtime  ChannelId_3   1000.0   1000  2018-11-15 02:18:49+00:00   \n",
       "1  financial_services  ChannelId_2    -20.0     20  2018-11-15 02:19:08+00:00   \n",
       "2             airtime  ChannelId_3    500.0    500  2018-11-15 02:44:21+00:00   \n",
       "3        utility_bill  ChannelId_3  20000.0  21800  2018-11-15 03:32:55+00:00   \n",
       "4  financial_services  ChannelId_2   -644.0    644  2018-11-15 03:34:21+00:00   \n",
       "\n",
       "   PricingStrategy  FraudResult  \n",
       "0                2            0  \n",
       "1                2            0  \n",
       "2                2            0  \n",
       "3                2            0  \n",
       "4                2            0  "
      ]
     },
     "execution_count": 4,
     "metadata": {},
     "output_type": "execute_result"
    }
   ],
   "source": [
    "df.head()"
   ]
  },
  {
   "cell_type": "code",
   "execution_count": 6,
   "metadata": {},
   "outputs": [],
   "source": [
    "# Convert TransactionStartTime to datetime format\n",
    "df['TransactionStartTime'] = pd.to_datetime(df['TransactionStartTime'], errors='coerce')"
   ]
  },
  {
   "cell_type": "code",
   "execution_count": 7,
   "metadata": {},
   "outputs": [
    {
     "name": "stdout",
     "output_type": "stream",
     "text": [
      "<class 'pandas.core.frame.DataFrame'>\n",
      "RangeIndex: 95662 entries, 0 to 95661\n",
      "Data columns (total 16 columns):\n",
      " #   Column                Non-Null Count  Dtype              \n",
      "---  ------                --------------  -----              \n",
      " 0   TransactionId         95662 non-null  object             \n",
      " 1   BatchId               95662 non-null  object             \n",
      " 2   AccountId             95662 non-null  object             \n",
      " 3   SubscriptionId        95662 non-null  object             \n",
      " 4   CustomerId            95662 non-null  object             \n",
      " 5   CurrencyCode          95662 non-null  object             \n",
      " 6   CountryCode           95662 non-null  int64              \n",
      " 7   ProviderId            95662 non-null  object             \n",
      " 8   ProductId             95662 non-null  object             \n",
      " 9   ProductCategory       95662 non-null  object             \n",
      " 10  ChannelId             95662 non-null  object             \n",
      " 11  Amount                95662 non-null  float64            \n",
      " 12  Value                 95662 non-null  int64              \n",
      " 13  TransactionStartTime  95662 non-null  datetime64[ns, UTC]\n",
      " 14  PricingStrategy       95662 non-null  int64              \n",
      " 15  FraudResult           95662 non-null  int64              \n",
      "dtypes: datetime64[ns, UTC](1), float64(1), int64(4), object(10)\n",
      "memory usage: 11.7+ MB\n"
     ]
    }
   ],
   "source": [
    "df.info()"
   ]
  },
  {
   "cell_type": "code",
   "execution_count": 12,
   "metadata": {},
   "outputs": [
    {
     "data": {
      "text/plain": [
       "['TransactionId',\n",
       " 'BatchId',\n",
       " 'AccountId',\n",
       " 'SubscriptionId',\n",
       " 'CustomerId',\n",
       " 'CurrencyCode',\n",
       " 'CountryCode',\n",
       " 'ProviderId',\n",
       " 'ProductId',\n",
       " 'ProductCategory',\n",
       " 'ChannelId',\n",
       " 'Amount',\n",
       " 'Value',\n",
       " 'TransactionStartTime',\n",
       " 'PricingStrategy',\n",
       " 'FraudResult']"
      ]
     },
     "execution_count": 12,
     "metadata": {},
     "output_type": "execute_result"
    }
   ],
   "source": [
    "df.columns.to_list()"
   ]
  },
  {
   "cell_type": "code",
   "execution_count": 14,
   "metadata": {},
   "outputs": [],
   "source": [
    "# Step 1: Create Aggregate Features\n",
    "agg_features = df.groupby('CustomerId').agg({\n",
    "    'Value': ['sum', 'mean', 'count', 'std']\n",
    "}).reset_index()\n",
    "\n",
    "# Rename columns for clarity\n",
    "agg_features.columns = ['CustomerId', 'Total_Transaction_Amount', 'Avg_Transaction_Amount', 'Transaction_Count', 'Std_Transaction_Amount']"
   ]
  },
  {
   "cell_type": "code",
   "execution_count": 15,
   "metadata": {},
   "outputs": [],
   "source": [
    "# Step 2: Extract Date-Time Features\n",
    "df['TransactionStartTime'] = pd.to_datetime(df['TransactionStartTime'])\n",
    "df['Transaction_Hour'] = df['TransactionStartTime'].dt.hour\n",
    "df['Transaction_Day'] = df['TransactionStartTime'].dt.day\n",
    "df['Transaction_Month'] = df['TransactionStartTime'].dt.month\n",
    "df['Transaction_Year'] = df['TransactionStartTime'].dt.year"
   ]
  },
  {
   "cell_type": "code",
   "execution_count": 17,
   "metadata": {},
   "outputs": [],
   "source": [
    "# Step 3: Encode Categorical Variables\n",
    "categorical_columns = ['ProviderId', 'ProductCategory', 'ChannelId', 'PricingStrategy']\n",
    "\n",
    "# Label Encoding for high-cardinality features\n",
    "label_encoders = {}\n",
    "for col in categorical_columns:\n",
    "    le = LabelEncoder()\n",
    "    df[col] = le.fit_transform(df[col].astype(str))\n",
    "    label_encoders[col] = le  # Save encoders for reference"
   ]
  },
  {
   "cell_type": "code",
   "execution_count": 18,
   "metadata": {},
   "outputs": [],
   "source": [
    "# Step 4: Normalize/Standardize Numerical Features\n",
    "scaler = StandardScaler()  # Use StandardScaler for better model performance\n",
    "numeric_features = ['Total_Transaction_Amount', 'Avg_Transaction_Amount', 'Transaction_Count', 'Std_Transaction_Amount']\n",
    "agg_features[numeric_features] = scaler.fit_transform(agg_features[numeric_features])"
   ]
  },
  {
   "cell_type": "code",
   "execution_count": 20,
   "metadata": {},
   "outputs": [],
   "source": [
    "\n",
    "# Step 6: Construct Default Estimator (RFMS-based proxy)\n",
    "# Recency: Days since last transaction per customer\n",
    "recency = df.groupby('CustomerId')['TransactionStartTime'].max().reset_index()\n",
    "recency['Recency'] = (df['TransactionStartTime'].max() - recency['TransactionStartTime']).dt.days\n",
    "\n",
    "# Frequency: Number of transactions per customer (already calculated in Transaction_Count)\n",
    "frequency = df.groupby('CustomerId')['TransactionId'].count().reset_index()\n",
    "frequency.columns = ['CustomerId', 'Frequency']\n",
    "\n",
    "# Monetary: Total money spent per customer (already calculated in Total_Transaction_Amount)\n",
    "monetary = agg_features[['CustomerId', 'Total_Transaction_Amount']]\n",
    "\n",
    "# Merge RFMS Features\n",
    "rfms_df = recency.merge(frequency, on='CustomerId').merge(monetary, on='CustomerId')\n",
    "\n",
    "# Define High and Low RFMS Score Groups (Simple Thresholding)\n",
    "rfms_df['RFMS_Score'] = (rfms_df['Frequency'] > rfms_df['Frequency'].median()).astype(int)"
   ]
  },
  {
   "cell_type": "code",
   "execution_count": 21,
   "metadata": {},
   "outputs": [],
   "source": [
    "# Step 7: Perform Weight of Evidence (WoE) Binning\n",
    "def calculate_woe_iv(df, feature, target):\n",
    "    bins = pd.qcut(df[feature], q=10, duplicates='drop')  # Divide into 10 bins\n",
    "    grouped = df.groupby(bins)[target].agg(['count', 'sum'])\n",
    "    grouped['good'] = grouped['count'] - grouped['sum']\n",
    "    grouped['bad'] = grouped['sum']\n",
    "    grouped['woe'] = np.log((grouped['good'] / grouped['good'].sum()) / (grouped['bad'] / grouped['bad'].sum()))\n",
    "    grouped['iv'] = (grouped['good'] / grouped['good'].sum() - grouped['bad'] / grouped['bad'].sum()) * grouped['woe']\n",
    "    return grouped[['woe', 'iv']].sum()"
   ]
  },
  {
   "cell_type": "code",
   "execution_count": 22,
   "metadata": {},
   "outputs": [
    {
     "name": "stderr",
     "output_type": "stream",
     "text": [
      "C:\\Users\\smrc\\AppData\\Local\\Temp\\ipykernel_24112\\3000792547.py:4: FutureWarning: The default of observed=False is deprecated and will be changed to True in a future version of pandas. Pass observed=False to retain current behavior or observed=True to adopt the future default and silence this warning.\n",
      "  grouped = df.groupby(bins)[target].agg(['count', 'sum'])\n",
      "C:\\Users\\smrc\\AppData\\Local\\Temp\\ipykernel_24112\\3000792547.py:4: FutureWarning: The default of observed=False is deprecated and will be changed to True in a future version of pandas. Pass observed=False to retain current behavior or observed=True to adopt the future default and silence this warning.\n",
      "  grouped = df.groupby(bins)[target].agg(['count', 'sum'])\n",
      "c:\\Users\\smrc\\AppData\\Local\\Programs\\Python\\Python312\\Lib\\site-packages\\pandas\\core\\arraylike.py:396: RuntimeWarning: divide by zero encountered in log\n",
      "  result = getattr(ufunc, method)(*inputs, **kwargs)\n",
      "c:\\Users\\smrc\\AppData\\Local\\Programs\\Python\\Python312\\Lib\\site-packages\\numpy\\core\\_methods.py:49: RuntimeWarning: invalid value encountered in reduce\n",
      "  return umr_sum(a, axis, dtype, out, keepdims, initial, where)\n",
      "C:\\Users\\smrc\\AppData\\Local\\Temp\\ipykernel_24112\\3000792547.py:4: FutureWarning: The default of observed=False is deprecated and will be changed to True in a future version of pandas. Pass observed=False to retain current behavior or observed=True to adopt the future default and silence this warning.\n",
      "  grouped = df.groupby(bins)[target].agg(['count', 'sum'])\n"
     ]
    }
   ],
   "source": [
    "# Calculate WoE & IV for RFMS_Score\n",
    "woe_iv_values = {}\n",
    "for col in ['Recency', 'Frequency', 'Total_Transaction_Amount']:\n",
    "    woe_iv_values[col] = calculate_woe_iv(rfms_df, col, 'RFMS_Score')"
   ]
  },
  {
   "cell_type": "code",
   "execution_count": 23,
   "metadata": {},
   "outputs": [
    {
     "data": {
      "text/plain": [
       "{'Recency': woe    0.619009\n",
       " iv     0.911976\n",
       " dtype: float64,\n",
       " 'Frequency': woe    NaN\n",
       " iv     inf\n",
       " dtype: float64,\n",
       " 'Total_Transaction_Amount': woe    inf\n",
       " iv     inf\n",
       " dtype: float64}"
      ]
     },
     "execution_count": 23,
     "metadata": {},
     "output_type": "execute_result"
    }
   ],
   "source": [
    "woe_iv_values"
   ]
  }
 ],
 "metadata": {
  "kernelspec": {
   "display_name": "Python 3",
   "language": "python",
   "name": "python3"
  },
  "language_info": {
   "codemirror_mode": {
    "name": "ipython",
    "version": 3
   },
   "file_extension": ".py",
   "mimetype": "text/x-python",
   "name": "python",
   "nbconvert_exporter": "python",
   "pygments_lexer": "ipython3",
   "version": "3.12.1"
  }
 },
 "nbformat": 4,
 "nbformat_minor": 2
}
